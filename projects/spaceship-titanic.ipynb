{
 "cells": [
  {
   "cell_type": "markdown",
   "id": "272c6c78",
   "metadata": {},
   "source": [
    "# Spaceship - Data Analysis"
   ]
  },
  {
   "cell_type": "code",
   "execution_count": 1,
   "id": "50079a78",
   "metadata": {},
   "outputs": [],
   "source": [
    "from IPython.display import Image\n",
    "from IPython.core.display import HTML"
   ]
  },
  {
   "cell_type": "code",
   "execution_count": null,
   "id": "262ccf31",
   "metadata": {},
   "outputs": [],
   "source": [
    "Image(url= \"https://www.redpointglobal.com/wp-content/uploads/2020/10/nebula-and-galaxies-in-space-scaled.jpg\", width=700)"
   ]
  },
  {
   "cell_type": "markdown",
   "id": "3700e6c3",
   "metadata": {},
   "source": [
    "## Project Description\n",
    "\n",
    "Welcome to the year 2912, where your data science skills are needed to solve a cosmic mystery. We've received a transmission from four lightyears away and things aren't looking good.\n",
    "\n",
    "The Spaceship Titanic was an interstellar passenger liner launched a month ago. With almost 13,000 passengers on board, the vessel set out on its maiden voyage transporting emigrants from our solar system to three newly habitable exoplanets orbiting nearby stars.\n",
    "\n",
    "While rounding Alpha Centauri en route to its first destination—the torrid 55 Cancri E—the unwary Spaceship Titanic collided with a spacetime anomaly hidden within a dust cloud. Sadly, it met a similar fate as its namesake from 1000 years before. Though the ship stayed intact, almost half of the passengers were transported to an alternate dimension!\n",
    "\n",
    "To help rescue crews and retrieve the lost passengers, you are challenged to predict which passengers were transported by the anomaly using records recovered from the spaceship’s damaged computer system.\n",
    "\n",
    "Help save them and change history!\n",
    "\n",
    "[Text from kaggle.com/competitions/spaceship-titanic]\n",
    "\n",
    "## Project Goal\n",
    "\n",
    "The point of this data analyis is ultimately the prediction of how many survivors there are. For this reason, we have a training dataset that includes the columns: PassengerId, HomePlanet, CryoSleep,Cabin, Destination, Age, VIP, RoomService, FoodCourt, ShoppingMall, Spa, VRDeck, Name, and Transported.\n",
    "We also have a testing dataset that includes the same columns apart from Transported. This column is not included because it is the one we are trying to predict.\n",
    "But of course this project also consists of other research questions, such as \"How many Home Planets are there?\" or \"What are the age groups?\""
   ]
  },
  {
   "cell_type": "code",
   "execution_count": 2,
   "id": "e72bffd1",
   "metadata": {
    "scrolled": true
   },
   "outputs": [],
   "source": [
    "# !pip install kaggle\n",
    "import kaggle"
   ]
  },
  {
   "cell_type": "code",
   "execution_count": null,
   "id": "25f4ff19",
   "metadata": {},
   "outputs": [],
   "source": [
    "! kaggle competitions download -c spaceship-titanic"
   ]
  },
  {
   "cell_type": "markdown",
   "id": "562f0297",
   "metadata": {},
   "source": [
    "## Data Evaluation"
   ]
  },
  {
   "cell_type": "markdown",
   "id": "5ab87b58",
   "metadata": {},
   "source": [
    "Data evaluation is an important step here because we get an overview of the data given and are able to understand the (un-)structuredness of the data."
   ]
  },
  {
   "cell_type": "code",
   "execution_count": 3,
   "id": "eba4bebe",
   "metadata": {},
   "outputs": [],
   "source": [
    "from sklearn.metrics import accuracy_score\n",
    "import pandas as pd\n",
    "import numpy as np\n",
    "import sklearn\n",
    "from sklearn.preprocessing import OneHotEncoder, LabelEncoder\n",
    "import plotly.express as px\n",
    "import matplotlib.pyplot as plt\n",
    "import seaborn as sns\n",
    "from sklearn.model_selection import train_test_split\n",
    "from sklearn.model_selection import cross_val_score\n",
    "from sklearn.neighbors import KNeighborsClassifier\n",
    "from sklearn.metrics import f1_score"
   ]
  },
  {
   "cell_type": "markdown",
   "id": "af009c0d",
   "metadata": {},
   "source": [
    "Read in the training data with pandas"
   ]
  },
  {
   "cell_type": "code",
   "execution_count": 4,
   "id": "c8d09c43",
   "metadata": {},
   "outputs": [
    {
     "data": {
      "text/html": [
       "<div>\n",
       "<style scoped>\n",
       "    .dataframe tbody tr th:only-of-type {\n",
       "        vertical-align: middle;\n",
       "    }\n",
       "\n",
       "    .dataframe tbody tr th {\n",
       "        vertical-align: top;\n",
       "    }\n",
       "\n",
       "    .dataframe thead th {\n",
       "        text-align: right;\n",
       "    }\n",
       "</style>\n",
       "<table border=\"1\" class=\"dataframe\">\n",
       "  <thead>\n",
       "    <tr style=\"text-align: right;\">\n",
       "      <th></th>\n",
       "      <th>PassengerId</th>\n",
       "      <th>HomePlanet</th>\n",
       "      <th>CryoSleep</th>\n",
       "      <th>Cabin</th>\n",
       "      <th>Destination</th>\n",
       "      <th>Age</th>\n",
       "      <th>VIP</th>\n",
       "      <th>RoomService</th>\n",
       "      <th>FoodCourt</th>\n",
       "      <th>ShoppingMall</th>\n",
       "      <th>Spa</th>\n",
       "      <th>VRDeck</th>\n",
       "      <th>Name</th>\n",
       "      <th>Transported</th>\n",
       "    </tr>\n",
       "  </thead>\n",
       "  <tbody>\n",
       "    <tr>\n",
       "      <th>0</th>\n",
       "      <td>0001_01</td>\n",
       "      <td>Europa</td>\n",
       "      <td>False</td>\n",
       "      <td>B/0/P</td>\n",
       "      <td>TRAPPIST-1e</td>\n",
       "      <td>39.0</td>\n",
       "      <td>False</td>\n",
       "      <td>0.0</td>\n",
       "      <td>0.0</td>\n",
       "      <td>0.0</td>\n",
       "      <td>0.0</td>\n",
       "      <td>0.0</td>\n",
       "      <td>Maham Ofracculy</td>\n",
       "      <td>False</td>\n",
       "    </tr>\n",
       "    <tr>\n",
       "      <th>1</th>\n",
       "      <td>0002_01</td>\n",
       "      <td>Earth</td>\n",
       "      <td>False</td>\n",
       "      <td>F/0/S</td>\n",
       "      <td>TRAPPIST-1e</td>\n",
       "      <td>24.0</td>\n",
       "      <td>False</td>\n",
       "      <td>109.0</td>\n",
       "      <td>9.0</td>\n",
       "      <td>25.0</td>\n",
       "      <td>549.0</td>\n",
       "      <td>44.0</td>\n",
       "      <td>Juanna Vines</td>\n",
       "      <td>True</td>\n",
       "    </tr>\n",
       "    <tr>\n",
       "      <th>2</th>\n",
       "      <td>0003_01</td>\n",
       "      <td>Europa</td>\n",
       "      <td>False</td>\n",
       "      <td>A/0/S</td>\n",
       "      <td>TRAPPIST-1e</td>\n",
       "      <td>58.0</td>\n",
       "      <td>True</td>\n",
       "      <td>43.0</td>\n",
       "      <td>3576.0</td>\n",
       "      <td>0.0</td>\n",
       "      <td>6715.0</td>\n",
       "      <td>49.0</td>\n",
       "      <td>Altark Susent</td>\n",
       "      <td>False</td>\n",
       "    </tr>\n",
       "    <tr>\n",
       "      <th>3</th>\n",
       "      <td>0003_02</td>\n",
       "      <td>Europa</td>\n",
       "      <td>False</td>\n",
       "      <td>A/0/S</td>\n",
       "      <td>TRAPPIST-1e</td>\n",
       "      <td>33.0</td>\n",
       "      <td>False</td>\n",
       "      <td>0.0</td>\n",
       "      <td>1283.0</td>\n",
       "      <td>371.0</td>\n",
       "      <td>3329.0</td>\n",
       "      <td>193.0</td>\n",
       "      <td>Solam Susent</td>\n",
       "      <td>False</td>\n",
       "    </tr>\n",
       "    <tr>\n",
       "      <th>4</th>\n",
       "      <td>0004_01</td>\n",
       "      <td>Earth</td>\n",
       "      <td>False</td>\n",
       "      <td>F/1/S</td>\n",
       "      <td>TRAPPIST-1e</td>\n",
       "      <td>16.0</td>\n",
       "      <td>False</td>\n",
       "      <td>303.0</td>\n",
       "      <td>70.0</td>\n",
       "      <td>151.0</td>\n",
       "      <td>565.0</td>\n",
       "      <td>2.0</td>\n",
       "      <td>Willy Santantines</td>\n",
       "      <td>True</td>\n",
       "    </tr>\n",
       "    <tr>\n",
       "      <th>5</th>\n",
       "      <td>0005_01</td>\n",
       "      <td>Earth</td>\n",
       "      <td>False</td>\n",
       "      <td>F/0/P</td>\n",
       "      <td>PSO J318.5-22</td>\n",
       "      <td>44.0</td>\n",
       "      <td>False</td>\n",
       "      <td>0.0</td>\n",
       "      <td>483.0</td>\n",
       "      <td>0.0</td>\n",
       "      <td>291.0</td>\n",
       "      <td>0.0</td>\n",
       "      <td>Sandie Hinetthews</td>\n",
       "      <td>True</td>\n",
       "    </tr>\n",
       "    <tr>\n",
       "      <th>6</th>\n",
       "      <td>0006_01</td>\n",
       "      <td>Earth</td>\n",
       "      <td>False</td>\n",
       "      <td>F/2/S</td>\n",
       "      <td>TRAPPIST-1e</td>\n",
       "      <td>26.0</td>\n",
       "      <td>False</td>\n",
       "      <td>42.0</td>\n",
       "      <td>1539.0</td>\n",
       "      <td>3.0</td>\n",
       "      <td>0.0</td>\n",
       "      <td>0.0</td>\n",
       "      <td>Billex Jacostaffey</td>\n",
       "      <td>True</td>\n",
       "    </tr>\n",
       "    <tr>\n",
       "      <th>7</th>\n",
       "      <td>0006_02</td>\n",
       "      <td>Earth</td>\n",
       "      <td>True</td>\n",
       "      <td>G/0/S</td>\n",
       "      <td>TRAPPIST-1e</td>\n",
       "      <td>28.0</td>\n",
       "      <td>False</td>\n",
       "      <td>0.0</td>\n",
       "      <td>0.0</td>\n",
       "      <td>0.0</td>\n",
       "      <td>0.0</td>\n",
       "      <td>NaN</td>\n",
       "      <td>Candra Jacostaffey</td>\n",
       "      <td>True</td>\n",
       "    </tr>\n",
       "    <tr>\n",
       "      <th>8</th>\n",
       "      <td>0007_01</td>\n",
       "      <td>Earth</td>\n",
       "      <td>False</td>\n",
       "      <td>F/3/S</td>\n",
       "      <td>TRAPPIST-1e</td>\n",
       "      <td>35.0</td>\n",
       "      <td>False</td>\n",
       "      <td>0.0</td>\n",
       "      <td>785.0</td>\n",
       "      <td>17.0</td>\n",
       "      <td>216.0</td>\n",
       "      <td>0.0</td>\n",
       "      <td>Andona Beston</td>\n",
       "      <td>True</td>\n",
       "    </tr>\n",
       "    <tr>\n",
       "      <th>9</th>\n",
       "      <td>0008_01</td>\n",
       "      <td>Europa</td>\n",
       "      <td>True</td>\n",
       "      <td>B/1/P</td>\n",
       "      <td>55 Cancri e</td>\n",
       "      <td>14.0</td>\n",
       "      <td>False</td>\n",
       "      <td>0.0</td>\n",
       "      <td>0.0</td>\n",
       "      <td>0.0</td>\n",
       "      <td>0.0</td>\n",
       "      <td>0.0</td>\n",
       "      <td>Erraiam Flatic</td>\n",
       "      <td>True</td>\n",
       "    </tr>\n",
       "  </tbody>\n",
       "</table>\n",
       "</div>"
      ],
      "text/plain": [
       "  PassengerId HomePlanet CryoSleep  Cabin    Destination   Age    VIP  \\\n",
       "0     0001_01     Europa     False  B/0/P    TRAPPIST-1e  39.0  False   \n",
       "1     0002_01      Earth     False  F/0/S    TRAPPIST-1e  24.0  False   \n",
       "2     0003_01     Europa     False  A/0/S    TRAPPIST-1e  58.0   True   \n",
       "3     0003_02     Europa     False  A/0/S    TRAPPIST-1e  33.0  False   \n",
       "4     0004_01      Earth     False  F/1/S    TRAPPIST-1e  16.0  False   \n",
       "5     0005_01      Earth     False  F/0/P  PSO J318.5-22  44.0  False   \n",
       "6     0006_01      Earth     False  F/2/S    TRAPPIST-1e  26.0  False   \n",
       "7     0006_02      Earth      True  G/0/S    TRAPPIST-1e  28.0  False   \n",
       "8     0007_01      Earth     False  F/3/S    TRAPPIST-1e  35.0  False   \n",
       "9     0008_01     Europa      True  B/1/P    55 Cancri e  14.0  False   \n",
       "\n",
       "   RoomService  FoodCourt  ShoppingMall     Spa  VRDeck                Name  \\\n",
       "0          0.0        0.0           0.0     0.0     0.0     Maham Ofracculy   \n",
       "1        109.0        9.0          25.0   549.0    44.0        Juanna Vines   \n",
       "2         43.0     3576.0           0.0  6715.0    49.0       Altark Susent   \n",
       "3          0.0     1283.0         371.0  3329.0   193.0        Solam Susent   \n",
       "4        303.0       70.0         151.0   565.0     2.0   Willy Santantines   \n",
       "5          0.0      483.0           0.0   291.0     0.0   Sandie Hinetthews   \n",
       "6         42.0     1539.0           3.0     0.0     0.0  Billex Jacostaffey   \n",
       "7          0.0        0.0           0.0     0.0     NaN  Candra Jacostaffey   \n",
       "8          0.0      785.0          17.0   216.0     0.0       Andona Beston   \n",
       "9          0.0        0.0           0.0     0.0     0.0      Erraiam Flatic   \n",
       "\n",
       "   Transported  \n",
       "0        False  \n",
       "1         True  \n",
       "2        False  \n",
       "3        False  \n",
       "4         True  \n",
       "5         True  \n",
       "6         True  \n",
       "7         True  \n",
       "8         True  \n",
       "9         True  "
      ]
     },
     "execution_count": 4,
     "metadata": {},
     "output_type": "execute_result"
    }
   ],
   "source": [
    "train_data = pd.read_csv(\"spaceship-titanic/train.csv\")\n",
    "train_data.head(10)"
   ]
  },
  {
   "cell_type": "markdown",
   "id": "199210a3",
   "metadata": {},
   "source": [
    "Then we use shape to see the extent of the dataset"
   ]
  },
  {
   "cell_type": "code",
   "execution_count": null,
   "id": "fff7f6ed",
   "metadata": {},
   "outputs": [],
   "source": [
    "train_data.shape"
   ]
  },
  {
   "cell_type": "markdown",
   "id": "ea39ea2a",
   "metadata": {},
   "source": [
    "Read in the test data with pandas"
   ]
  },
  {
   "cell_type": "code",
   "execution_count": 5,
   "id": "67a7ca3a",
   "metadata": {},
   "outputs": [
    {
     "data": {
      "text/html": [
       "<div>\n",
       "<style scoped>\n",
       "    .dataframe tbody tr th:only-of-type {\n",
       "        vertical-align: middle;\n",
       "    }\n",
       "\n",
       "    .dataframe tbody tr th {\n",
       "        vertical-align: top;\n",
       "    }\n",
       "\n",
       "    .dataframe thead th {\n",
       "        text-align: right;\n",
       "    }\n",
       "</style>\n",
       "<table border=\"1\" class=\"dataframe\">\n",
       "  <thead>\n",
       "    <tr style=\"text-align: right;\">\n",
       "      <th></th>\n",
       "      <th>PassengerId</th>\n",
       "      <th>HomePlanet</th>\n",
       "      <th>CryoSleep</th>\n",
       "      <th>Cabin</th>\n",
       "      <th>Destination</th>\n",
       "      <th>Age</th>\n",
       "      <th>VIP</th>\n",
       "      <th>RoomService</th>\n",
       "      <th>FoodCourt</th>\n",
       "      <th>ShoppingMall</th>\n",
       "      <th>Spa</th>\n",
       "      <th>VRDeck</th>\n",
       "      <th>Name</th>\n",
       "    </tr>\n",
       "  </thead>\n",
       "  <tbody>\n",
       "    <tr>\n",
       "      <th>0</th>\n",
       "      <td>0013_01</td>\n",
       "      <td>Earth</td>\n",
       "      <td>True</td>\n",
       "      <td>G/3/S</td>\n",
       "      <td>TRAPPIST-1e</td>\n",
       "      <td>27.0</td>\n",
       "      <td>False</td>\n",
       "      <td>0.0</td>\n",
       "      <td>0.0</td>\n",
       "      <td>0.0</td>\n",
       "      <td>0.0</td>\n",
       "      <td>0.0</td>\n",
       "      <td>Nelly Carsoning</td>\n",
       "    </tr>\n",
       "    <tr>\n",
       "      <th>1</th>\n",
       "      <td>0018_01</td>\n",
       "      <td>Earth</td>\n",
       "      <td>False</td>\n",
       "      <td>F/4/S</td>\n",
       "      <td>TRAPPIST-1e</td>\n",
       "      <td>19.0</td>\n",
       "      <td>False</td>\n",
       "      <td>0.0</td>\n",
       "      <td>9.0</td>\n",
       "      <td>0.0</td>\n",
       "      <td>2823.0</td>\n",
       "      <td>0.0</td>\n",
       "      <td>Lerome Peckers</td>\n",
       "    </tr>\n",
       "    <tr>\n",
       "      <th>2</th>\n",
       "      <td>0019_01</td>\n",
       "      <td>Europa</td>\n",
       "      <td>True</td>\n",
       "      <td>C/0/S</td>\n",
       "      <td>55 Cancri e</td>\n",
       "      <td>31.0</td>\n",
       "      <td>False</td>\n",
       "      <td>0.0</td>\n",
       "      <td>0.0</td>\n",
       "      <td>0.0</td>\n",
       "      <td>0.0</td>\n",
       "      <td>0.0</td>\n",
       "      <td>Sabih Unhearfus</td>\n",
       "    </tr>\n",
       "    <tr>\n",
       "      <th>3</th>\n",
       "      <td>0021_01</td>\n",
       "      <td>Europa</td>\n",
       "      <td>False</td>\n",
       "      <td>C/1/S</td>\n",
       "      <td>TRAPPIST-1e</td>\n",
       "      <td>38.0</td>\n",
       "      <td>False</td>\n",
       "      <td>0.0</td>\n",
       "      <td>6652.0</td>\n",
       "      <td>0.0</td>\n",
       "      <td>181.0</td>\n",
       "      <td>585.0</td>\n",
       "      <td>Meratz Caltilter</td>\n",
       "    </tr>\n",
       "    <tr>\n",
       "      <th>4</th>\n",
       "      <td>0023_01</td>\n",
       "      <td>Earth</td>\n",
       "      <td>False</td>\n",
       "      <td>F/5/S</td>\n",
       "      <td>TRAPPIST-1e</td>\n",
       "      <td>20.0</td>\n",
       "      <td>False</td>\n",
       "      <td>10.0</td>\n",
       "      <td>0.0</td>\n",
       "      <td>635.0</td>\n",
       "      <td>0.0</td>\n",
       "      <td>0.0</td>\n",
       "      <td>Brence Harperez</td>\n",
       "    </tr>\n",
       "    <tr>\n",
       "      <th>5</th>\n",
       "      <td>0027_01</td>\n",
       "      <td>Earth</td>\n",
       "      <td>False</td>\n",
       "      <td>F/7/P</td>\n",
       "      <td>TRAPPIST-1e</td>\n",
       "      <td>31.0</td>\n",
       "      <td>False</td>\n",
       "      <td>0.0</td>\n",
       "      <td>1615.0</td>\n",
       "      <td>263.0</td>\n",
       "      <td>113.0</td>\n",
       "      <td>60.0</td>\n",
       "      <td>Karlen Ricks</td>\n",
       "    </tr>\n",
       "    <tr>\n",
       "      <th>6</th>\n",
       "      <td>0029_01</td>\n",
       "      <td>Europa</td>\n",
       "      <td>True</td>\n",
       "      <td>B/2/P</td>\n",
       "      <td>55 Cancri e</td>\n",
       "      <td>21.0</td>\n",
       "      <td>False</td>\n",
       "      <td>0.0</td>\n",
       "      <td>NaN</td>\n",
       "      <td>0.0</td>\n",
       "      <td>0.0</td>\n",
       "      <td>0.0</td>\n",
       "      <td>Aldah Ainserfle</td>\n",
       "    </tr>\n",
       "    <tr>\n",
       "      <th>7</th>\n",
       "      <td>0032_01</td>\n",
       "      <td>Europa</td>\n",
       "      <td>True</td>\n",
       "      <td>D/0/S</td>\n",
       "      <td>TRAPPIST-1e</td>\n",
       "      <td>20.0</td>\n",
       "      <td>False</td>\n",
       "      <td>0.0</td>\n",
       "      <td>0.0</td>\n",
       "      <td>0.0</td>\n",
       "      <td>0.0</td>\n",
       "      <td>0.0</td>\n",
       "      <td>Acrabi Pringry</td>\n",
       "    </tr>\n",
       "    <tr>\n",
       "      <th>8</th>\n",
       "      <td>0032_02</td>\n",
       "      <td>Europa</td>\n",
       "      <td>True</td>\n",
       "      <td>D/0/S</td>\n",
       "      <td>55 Cancri e</td>\n",
       "      <td>23.0</td>\n",
       "      <td>False</td>\n",
       "      <td>0.0</td>\n",
       "      <td>0.0</td>\n",
       "      <td>0.0</td>\n",
       "      <td>0.0</td>\n",
       "      <td>0.0</td>\n",
       "      <td>Dhena Pringry</td>\n",
       "    </tr>\n",
       "    <tr>\n",
       "      <th>9</th>\n",
       "      <td>0033_01</td>\n",
       "      <td>Earth</td>\n",
       "      <td>False</td>\n",
       "      <td>F/7/S</td>\n",
       "      <td>55 Cancri e</td>\n",
       "      <td>24.0</td>\n",
       "      <td>False</td>\n",
       "      <td>0.0</td>\n",
       "      <td>639.0</td>\n",
       "      <td>0.0</td>\n",
       "      <td>0.0</td>\n",
       "      <td>0.0</td>\n",
       "      <td>Eliana Delazarson</td>\n",
       "    </tr>\n",
       "  </tbody>\n",
       "</table>\n",
       "</div>"
      ],
      "text/plain": [
       "  PassengerId HomePlanet CryoSleep  Cabin  Destination   Age    VIP  \\\n",
       "0     0013_01      Earth      True  G/3/S  TRAPPIST-1e  27.0  False   \n",
       "1     0018_01      Earth     False  F/4/S  TRAPPIST-1e  19.0  False   \n",
       "2     0019_01     Europa      True  C/0/S  55 Cancri e  31.0  False   \n",
       "3     0021_01     Europa     False  C/1/S  TRAPPIST-1e  38.0  False   \n",
       "4     0023_01      Earth     False  F/5/S  TRAPPIST-1e  20.0  False   \n",
       "5     0027_01      Earth     False  F/7/P  TRAPPIST-1e  31.0  False   \n",
       "6     0029_01     Europa      True  B/2/P  55 Cancri e  21.0  False   \n",
       "7     0032_01     Europa      True  D/0/S  TRAPPIST-1e  20.0  False   \n",
       "8     0032_02     Europa      True  D/0/S  55 Cancri e  23.0  False   \n",
       "9     0033_01      Earth     False  F/7/S  55 Cancri e  24.0  False   \n",
       "\n",
       "   RoomService  FoodCourt  ShoppingMall     Spa  VRDeck               Name  \n",
       "0          0.0        0.0           0.0     0.0     0.0    Nelly Carsoning  \n",
       "1          0.0        9.0           0.0  2823.0     0.0     Lerome Peckers  \n",
       "2          0.0        0.0           0.0     0.0     0.0    Sabih Unhearfus  \n",
       "3          0.0     6652.0           0.0   181.0   585.0   Meratz Caltilter  \n",
       "4         10.0        0.0         635.0     0.0     0.0    Brence Harperez  \n",
       "5          0.0     1615.0         263.0   113.0    60.0       Karlen Ricks  \n",
       "6          0.0        NaN           0.0     0.0     0.0    Aldah Ainserfle  \n",
       "7          0.0        0.0           0.0     0.0     0.0     Acrabi Pringry  \n",
       "8          0.0        0.0           0.0     0.0     0.0      Dhena Pringry  \n",
       "9          0.0      639.0           0.0     0.0     0.0  Eliana Delazarson  "
      ]
     },
     "execution_count": 5,
     "metadata": {},
     "output_type": "execute_result"
    }
   ],
   "source": [
    "test_data = pd.read_csv(\"spaceship-titanic/test.csv\")\n",
    "test_data.head(10)"
   ]
  },
  {
   "cell_type": "markdown",
   "id": "17316303",
   "metadata": {},
   "source": [
    "Then we use shape to see the extent of the dataset"
   ]
  },
  {
   "cell_type": "code",
   "execution_count": null,
   "id": "38a0f644",
   "metadata": {},
   "outputs": [],
   "source": [
    "train_data.shape"
   ]
  },
  {
   "cell_type": "markdown",
   "id": "17382ed6",
   "metadata": {},
   "source": [
    "## EDA (Exploratory data analysis)"
   ]
  },
  {
   "cell_type": "markdown",
   "id": "363468dc",
   "metadata": {},
   "source": [
    "Data Dictionary defined on kaggle.com, which explains all columns that can be found in the dataset:\n"
   ]
  },
  {
   "cell_type": "markdown",
   "id": "976498b9",
   "metadata": {},
   "source": [
    "\n",
    "| Column      | Description                                                                               |\n",
    "|-------------|-------------------------------------------------------------------------------------------|\n",
    "| PassengerID | A unique Id for each passenger. Each Id takes the form gggg_pp (group_numberWithinGroup)  |\n",
    "| HomePlanet  | The planet the passenger departed from, typically their planet of permanent residence     |\n",
    "| CryoSleep   | Indicates whether passenger is in cryosleep (if so, they are refined to their cabins)     |\n",
    "| Cabin       | The cabin number where the passenger is staying (deck/num/side), P (Port), S (Starboard)  |\n",
    "| Destination | The planet the passenger will be debarking to                                             |\n",
    "| Age         | The age of the passenger                                                                  |\n",
    "| VIP         | Whether the passenger has paid for special VIP service during the voyage                  |\n",
    "| RoomService | Amount the passenger has billed at each of the Spaceship Titanic's many luxury amenities  |\n",
    "| FoodCourt   | Amount the passenger has billed at each of the Spaceship Titanic's many luxury amenities  |\n",
    "| ShoppingMall| Amount the passenger has billed at each of the Spaceship Titanic's many luxury amenities  |\n",
    "| Spa         | Amount the passenger has billed at each of the Spaceship Titanic's many luxury amenities  |\n",
    "| VRDeck      | Amount the passenger has billed at each of the Spaceship Titanic's many luxury amenities  |\n",
    "| Name        | The first and last names of the passenger.                                                |\n",
    "| Transported | This is the column that will be defined throughout the analysis                           |\n"
   ]
  },
  {
   "cell_type": "markdown",
   "id": "be3eed9a",
   "metadata": {},
   "source": [
    "Now that we have an overview of the dataset and its columns, we can check the integrity of the given data."
   ]
  },
  {
   "cell_type": "markdown",
   "id": "3f54bf36",
   "metadata": {},
   "source": [
    "### How many null values does the dataset have?\n",
    "This is important to know so we can replace the NaNs with other values later on."
   ]
  },
  {
   "cell_type": "code",
   "execution_count": null,
   "id": "dc76126c",
   "metadata": {},
   "outputs": [],
   "source": [
    "train_data.isnull().sum()"
   ]
  },
  {
   "cell_type": "code",
   "execution_count": null,
   "id": "e2c089c2",
   "metadata": {},
   "outputs": [],
   "source": [
    "test_data.isnull().sum()"
   ]
  },
  {
   "cell_type": "markdown",
   "id": "9dc2bba9",
   "metadata": {},
   "source": [
    "### Duplicates?\n",
    "Should there be duplicate data, it would be better to drop them, so as not to distort the analysis results."
   ]
  },
  {
   "cell_type": "code",
   "execution_count": null,
   "id": "f99e293a",
   "metadata": {},
   "outputs": [],
   "source": [
    "print(f\"{train_data.duplicated().sum()} duplicated rows ({np.round(100*train_data.duplicated().sum()/len(train_data),1)}%) in train_data\")\n",
    "print(f\"{test_data.duplicated().sum()} duplicated rows ({np.round(100*test_data.duplicated().sum()/len(test_data),1)}%) in test_data\")"
   ]
  },
  {
   "cell_type": "markdown",
   "id": "8711107c",
   "metadata": {},
   "source": [
    "### Data types?"
   ]
  },
  {
   "cell_type": "code",
   "execution_count": null,
   "id": "197a0957",
   "metadata": {},
   "outputs": [],
   "source": [
    "train_data.dtypes"
   ]
  },
  {
   "cell_type": "code",
   "execution_count": null,
   "id": "a99c3f0c",
   "metadata": {},
   "outputs": [],
   "source": [
    "train_data.describe()"
   ]
  },
  {
   "cell_type": "markdown",
   "id": "71f5e2fc",
   "metadata": {},
   "source": [
    "## Introductory Questions\n",
    "#### How many Home Planets are there?"
   ]
  },
  {
   "cell_type": "code",
   "execution_count": null,
   "id": "05552c37",
   "metadata": {},
   "outputs": [],
   "source": [
    "train_data['HomePlanet'].value_counts().plot(kind='pie', autopct='%.0f%%')"
   ]
  },
  {
   "cell_type": "markdown",
   "id": "8e2ec412",
   "metadata": {},
   "source": [
    "The results show that there are three Home Planets, i.e. planets where the passengers come from or at least depart from. Most passengers, namely 54%, come from Earth, while 25% come from a planet called Europa and 21% come from Mars."
   ]
  },
  {
   "cell_type": "markdown",
   "id": "27e1f05e",
   "metadata": {},
   "source": [
    "#### How many destinations are there?"
   ]
  },
  {
   "cell_type": "code",
   "execution_count": null,
   "id": "47193e6a",
   "metadata": {
    "scrolled": false
   },
   "outputs": [],
   "source": [
    "train_data['Destination'].value_counts().plot(kind='pie', autopct='%.0f%%')"
   ]
  },
  {
   "cell_type": "markdown",
   "id": "ff7ed004",
   "metadata": {},
   "source": [
    "Interestingly enough, there are as many destinations as there are Home Planets. The most popular destination is TRAPPIST-1e with 69% of passengers aiming to go there. The second most popular destination is 55 Cancri e with 21% and PSO J318.5-22 is the least favorite destination with 9%."
   ]
  },
  {
   "cell_type": "markdown",
   "id": "b379c4e7",
   "metadata": {},
   "source": [
    "#### How many people are put into CryoSleep?"
   ]
  },
  {
   "cell_type": "code",
   "execution_count": null,
   "id": "3ac3b01d",
   "metadata": {},
   "outputs": [],
   "source": [
    "train_data['CryoSleep'].value_counts().plot(kind='pie', autopct='%.0f%%')"
   ]
  },
  {
   "cell_type": "markdown",
   "id": "e5abbdc6",
   "metadata": {},
   "source": [
    "According to the results, 36% of the passengers are in CryoSleep during the voyage. The remaining 64% are not in CryoSleep during the voyage. CryoSleep effects the prediction because a passenger being in cryosleep is unable to leave their cabin. It would therefore be interesting to see to what extent cryosleep effects the survival rate of the passengers."
   ]
  },
  {
   "cell_type": "markdown",
   "id": "ca80fcd9",
   "metadata": {},
   "source": [
    "#### How many VIPs are onboard?"
   ]
  },
  {
   "cell_type": "code",
   "execution_count": null,
   "id": "7657b10a",
   "metadata": {},
   "outputs": [],
   "source": [
    "train_data['VIP'].value_counts().plot(kind='pie', autopct='%.0f%%')"
   ]
  },
  {
   "cell_type": "markdown",
   "id": "5bc9238d",
   "metadata": {},
   "source": [
    "It shows that most passengers have a non-VIP ticket, namely 98%. Merely 2% have a VIP ticket. This is important for analysis as there could be vast differences in accomoditions and safety measures depending on the type of ticket. It would therefore be interesting to explore a correlation between the ticket type and the chance of survival. It can also be said that way more people are in cryosleep, which shows that having a VIP ticket is definitely not a requirement for cryosleep."
   ]
  },
  {
   "cell_type": "markdown",
   "id": "a5c43510",
   "metadata": {},
   "source": [
    "#### How many people were actually transported?"
   ]
  },
  {
   "cell_type": "code",
   "execution_count": null,
   "id": "14620095",
   "metadata": {},
   "outputs": [],
   "source": [
    "train_data['Transported'].value_counts().plot(kind='pie', autopct='%.0f%%')"
   ]
  },
  {
   "cell_type": "markdown",
   "id": "f9400039",
   "metadata": {},
   "source": [
    "According to the output, our dataset shows a survival rate of 50%. Therefore every second person on the spaceship survives."
   ]
  },
  {
   "cell_type": "markdown",
   "id": "06631669",
   "metadata": {},
   "source": [
    "#### What can be said about the passengers' age?"
   ]
  },
  {
   "cell_type": "code",
   "execution_count": null,
   "id": "737a96b6",
   "metadata": {},
   "outputs": [],
   "source": [
    "print('Oldest Passenger was of:',train_data['Age'].max(),'Years')\n",
    "print('Youngest Passenger was of:',train_data['Age'].min(),'Years')\n",
    "print('Average Age on the ship:',train_data['Age'].mean(),'Years')"
   ]
  },
  {
   "cell_type": "markdown",
   "id": "bac21d6c",
   "metadata": {},
   "source": [
    "It seems that the passenger age is highly variable starting at 0 years (a newborn/baby) up to 79 years. The average passenger, however, is almost 29 years old."
   ]
  },
  {
   "cell_type": "markdown",
   "id": "7a58038c",
   "metadata": {},
   "source": [
    "#### How many people survived depending on age and cryosleep?"
   ]
  },
  {
   "cell_type": "code",
   "execution_count": null,
   "id": "7da47103",
   "metadata": {},
   "outputs": [],
   "source": [
    "fig = px.violin(train_data, y=\"Age\", x=\"Transported\", color=\"CryoSleep\", box=True, points=\"all\",\n",
    "          hover_data=train_data.columns)\n",
    "fig.show()"
   ]
  },
  {
   "cell_type": "markdown",
   "id": "5e1e987d",
   "metadata": {},
   "source": [
    "#### How many people survived depending on age and cryosleep?"
   ]
  },
  {
   "cell_type": "code",
   "execution_count": null,
   "id": "e26dd4b1",
   "metadata": {},
   "outputs": [],
   "source": [
    "fig = px.violin(train_data, y=\"Age\", x=\"Transported\", color=\"VIP\", box=True, points=\"all\",\n",
    "          hover_data=train_data.columns)\n",
    "fig.show()"
   ]
  },
  {
   "cell_type": "markdown",
   "id": "dc09b84a",
   "metadata": {},
   "source": [
    "## Preprocessing and Cleaning"
   ]
  },
  {
   "cell_type": "code",
   "execution_count": null,
   "id": "567a21ca",
   "metadata": {},
   "outputs": [],
   "source": [
    "train_data.isnull().sum()"
   ]
  },
  {
   "cell_type": "code",
   "execution_count": null,
   "id": "3280fca7",
   "metadata": {},
   "outputs": [],
   "source": [
    "test_data.isnull().sum()"
   ]
  },
  {
   "cell_type": "markdown",
   "id": "0826e236",
   "metadata": {},
   "source": [
    "The results show that there are quite a lot of NaNs in the dataset that need to be cleaned up."
   ]
  },
  {
   "cell_type": "markdown",
   "id": "35acae12",
   "metadata": {},
   "source": [
    "Combining the dataset makes it easier to change data because we do not have to set up everything twice."
   ]
  },
  {
   "cell_type": "code",
   "execution_count": 6,
   "id": "0acb5993",
   "metadata": {},
   "outputs": [],
   "source": [
    "data_cleaner = [train_data, test_data]"
   ]
  },
  {
   "cell_type": "markdown",
   "id": "0164e4a3",
   "metadata": {},
   "source": [
    "Filling in the unkown values. For CryoSleep, Destination, VIP, Cabin and Name, I replace the NaNs with 'Unknown' or -1, depending on the datatype. For the other columns, I replace the NaNs with the median value. I am using the median value as substitute because it does not distort the data and the data stays about the same."
   ]
  },
  {
   "cell_type": "code",
   "execution_count": 7,
   "id": "3cc8ad8e",
   "metadata": {},
   "outputs": [],
   "source": [
    "for dataset in data_cleaner:\n",
    "    dataset['HomePlanet'].fillna('Unknown', inplace=True)\n",
    "    dataset['Name'].fillna('Unknown', inplace=True)\n",
    "    dataset['Cabin'].fillna('Unknown', inplace=True)\n",
    "    dataset['Destination'].fillna('Unknown', inplace=True)\n",
    "    dataset['CryoSleep'].fillna('-1', inplace=True)\n",
    "    dataset['VIP'].fillna('-1', inplace=True)\n",
    "    dataset['Age'].fillna(dataset['Age'].median(), inplace = True)\n",
    "    dataset['VRDeck'].fillna(dataset['VRDeck'].median(), inplace = True)\n",
    "    dataset['RoomService'].fillna(dataset['RoomService'].median(), inplace = True)\n",
    "    dataset['FoodCourt'].fillna(dataset['FoodCourt'].median(), inplace = True)\n",
    "    dataset['Spa'].fillna(dataset['Spa'].median(), inplace = True)\n",
    "    dataset['ShoppingMall'].fillna(dataset['ShoppingMall'].median(), inplace = True)"
   ]
  },
  {
   "cell_type": "code",
   "execution_count": null,
   "id": "babb7268",
   "metadata": {
    "scrolled": true
   },
   "outputs": [],
   "source": [
    "train_data.sample(10)"
   ]
  },
  {
   "cell_type": "markdown",
   "id": "725f86c9",
   "metadata": {},
   "source": [
    "## Feature Engineering\n",
    "Based on the existing dataset, we can add more distinctive features to make the model more precise. Therefore I decided to divide the age groups and create a column containing the name of the age group for each passenger."
   ]
  },
  {
   "cell_type": "code",
   "execution_count": 8,
   "id": "8a96b029",
   "metadata": {},
   "outputs": [],
   "source": [
    "for dataset in data_cleaner: \n",
    "    dataset['Age_group']=np.nan\n",
    "    dataset.loc[dataset['Age']<=12,'Age_group']='Age_0-12'\n",
    "    dataset.loc[(dataset['Age']>12) & (dataset['Age']<18),'Age_group']='Age_13-17'\n",
    "    dataset.loc[(dataset['Age']>=18) & (dataset['Age']<=25),'Age_group']='Age_18-25'\n",
    "    dataset.loc[(dataset['Age']>25) & (dataset['Age']<=30),'Age_group']='Age_26-30'\n",
    "    dataset.loc[(dataset['Age']>30) & (dataset['Age']<=50),'Age_group']='Age_31-50'\n",
    "    dataset.loc[dataset['Age']>50,'Age_group']='Age_51+'"
   ]
  },
  {
   "cell_type": "markdown",
   "id": "346578c8",
   "metadata": {},
   "source": [
    "In the following code, I use matplotlib to visualize the distribution of the different age groups. Here, I incorporated the Survival / Transported rate into the diagram."
   ]
  },
  {
   "cell_type": "code",
   "execution_count": null,
   "id": "1bbed84f",
   "metadata": {},
   "outputs": [],
   "source": [
    "plt.figure(figsize=(10,4))\n",
    "g=sns.countplot(data=train_data, x='Age_group', hue='Transported', order=['Age_0-12','Age_13-17','Age_18-25','Age_26-30','Age_31-50','Age_51+'])\n",
    "plt.title('Age group distribution')"
   ]
  },
  {
   "cell_type": "markdown",
   "id": "e97032b8",
   "metadata": {},
   "source": [
    "It can be said that the majority of passengers is between 31 and 50 years old. The second biggest age group is 18-25. The biggest divergence between surviving passengers and deceased passengers occurs for the age group 0-12. Interestingly enough, only for the age groups 0-12 and 13-17 the survival rate is higher than the death rate. While the rates are almost the same for the age groups 26-30 and 51+, the chance of survival is still smaller. For the groups 18-25 and 31-50 the divergence is still even higher."
   ]
  },
  {
   "cell_type": "code",
   "execution_count": null,
   "id": "f6264dda",
   "metadata": {
    "scrolled": true
   },
   "outputs": [],
   "source": [
    "train_data.head()"
   ]
  },
  {
   "cell_type": "markdown",
   "id": "fb16ea0d",
   "metadata": {},
   "source": [
    "Here, I create three new columns that are based on the Deck column. I am splitting the column, which follows the pattern (deck/num/side) into separate columns through indexing."
   ]
  },
  {
   "cell_type": "code",
   "execution_count": 9,
   "id": "1d9f36c5",
   "metadata": {},
   "outputs": [],
   "source": [
    "for dataset in data_cleaner: \n",
    "    def deck(dataset):\n",
    "        try:\n",
    "            return dataset.split('/')[0]\n",
    "        except:\n",
    "            pass\n",
    "\n",
    "    def num(dataset):\n",
    "        try:\n",
    "            return int(dataset.split('/')[1])\n",
    "        except:\n",
    "            pass\n",
    "\n",
    "    def side(dataset):\n",
    "        try:\n",
    "            return dataset.split('/')[2]\n",
    "        except:\n",
    "            pass\n",
    "\n",
    "    dataset['Cabin_deck'] = dataset['Cabin'].apply(deck)\n",
    "    dataset['Cabin_num'] = dataset['Cabin'].apply(num)\n",
    "    dataset['Cabin_side'] = dataset['Cabin'].apply(side)"
   ]
  },
  {
   "cell_type": "code",
   "execution_count": null,
   "id": "5b945a0a",
   "metadata": {},
   "outputs": [],
   "source": [
    "train_data.sample(10)"
   ]
  },
  {
   "cell_type": "code",
   "execution_count": null,
   "id": "e2b31bce",
   "metadata": {},
   "outputs": [],
   "source": [
    "test_data.sample(10)"
   ]
  },
  {
   "cell_type": "markdown",
   "id": "c0a34735",
   "metadata": {},
   "source": [
    "Because the three new columns also include NaNs, it is necessary to replace them with 'Unknown' just like I did with the data in a previous step."
   ]
  },
  {
   "cell_type": "code",
   "execution_count": 10,
   "id": "8db007fc",
   "metadata": {},
   "outputs": [],
   "source": [
    "for dataset in data_cleaner: \n",
    "    dataset['Cabin_num'].fillna(-1, inplace=True)\n",
    "    dataset['Cabin_side'].fillna('Unknown', inplace=True)\n",
    "    dataset['Cabin_deck'].fillna('Unknown', inplace=True)"
   ]
  },
  {
   "cell_type": "markdown",
   "id": "2e504aa6",
   "metadata": {},
   "source": [
    "Here, I am replacing the boolean values True and False with 1 and 0."
   ]
  },
  {
   "cell_type": "code",
   "execution_count": 11,
   "id": "8a374858",
   "metadata": {},
   "outputs": [
    {
     "data": {
      "text/html": [
       "<div>\n",
       "<style scoped>\n",
       "    .dataframe tbody tr th:only-of-type {\n",
       "        vertical-align: middle;\n",
       "    }\n",
       "\n",
       "    .dataframe tbody tr th {\n",
       "        vertical-align: top;\n",
       "    }\n",
       "\n",
       "    .dataframe thead th {\n",
       "        text-align: right;\n",
       "    }\n",
       "</style>\n",
       "<table border=\"1\" class=\"dataframe\">\n",
       "  <thead>\n",
       "    <tr style=\"text-align: right;\">\n",
       "      <th></th>\n",
       "      <th>PassengerId</th>\n",
       "      <th>HomePlanet</th>\n",
       "      <th>CryoSleep</th>\n",
       "      <th>Cabin</th>\n",
       "      <th>Destination</th>\n",
       "      <th>Age</th>\n",
       "      <th>VIP</th>\n",
       "      <th>RoomService</th>\n",
       "      <th>FoodCourt</th>\n",
       "      <th>ShoppingMall</th>\n",
       "      <th>Spa</th>\n",
       "      <th>VRDeck</th>\n",
       "      <th>Name</th>\n",
       "      <th>Transported</th>\n",
       "      <th>Age_group</th>\n",
       "      <th>Cabin_deck</th>\n",
       "      <th>Cabin_num</th>\n",
       "      <th>Cabin_side</th>\n",
       "    </tr>\n",
       "  </thead>\n",
       "  <tbody>\n",
       "    <tr>\n",
       "      <th>0</th>\n",
       "      <td>0001_01</td>\n",
       "      <td>Europa</td>\n",
       "      <td>0</td>\n",
       "      <td>B/0/P</td>\n",
       "      <td>TRAPPIST-1e</td>\n",
       "      <td>39.0</td>\n",
       "      <td>0</td>\n",
       "      <td>0.0</td>\n",
       "      <td>0.0</td>\n",
       "      <td>0.0</td>\n",
       "      <td>0.0</td>\n",
       "      <td>0.0</td>\n",
       "      <td>Maham Ofracculy</td>\n",
       "      <td>0</td>\n",
       "      <td>Age_31-50</td>\n",
       "      <td>B</td>\n",
       "      <td>0.0</td>\n",
       "      <td>P</td>\n",
       "    </tr>\n",
       "    <tr>\n",
       "      <th>1</th>\n",
       "      <td>0002_01</td>\n",
       "      <td>Earth</td>\n",
       "      <td>0</td>\n",
       "      <td>F/0/S</td>\n",
       "      <td>TRAPPIST-1e</td>\n",
       "      <td>24.0</td>\n",
       "      <td>0</td>\n",
       "      <td>109.0</td>\n",
       "      <td>9.0</td>\n",
       "      <td>25.0</td>\n",
       "      <td>549.0</td>\n",
       "      <td>44.0</td>\n",
       "      <td>Juanna Vines</td>\n",
       "      <td>1</td>\n",
       "      <td>Age_18-25</td>\n",
       "      <td>F</td>\n",
       "      <td>0.0</td>\n",
       "      <td>S</td>\n",
       "    </tr>\n",
       "    <tr>\n",
       "      <th>2</th>\n",
       "      <td>0003_01</td>\n",
       "      <td>Europa</td>\n",
       "      <td>0</td>\n",
       "      <td>A/0/S</td>\n",
       "      <td>TRAPPIST-1e</td>\n",
       "      <td>58.0</td>\n",
       "      <td>1</td>\n",
       "      <td>43.0</td>\n",
       "      <td>3576.0</td>\n",
       "      <td>0.0</td>\n",
       "      <td>6715.0</td>\n",
       "      <td>49.0</td>\n",
       "      <td>Altark Susent</td>\n",
       "      <td>0</td>\n",
       "      <td>Age_51+</td>\n",
       "      <td>A</td>\n",
       "      <td>0.0</td>\n",
       "      <td>S</td>\n",
       "    </tr>\n",
       "    <tr>\n",
       "      <th>3</th>\n",
       "      <td>0003_02</td>\n",
       "      <td>Europa</td>\n",
       "      <td>0</td>\n",
       "      <td>A/0/S</td>\n",
       "      <td>TRAPPIST-1e</td>\n",
       "      <td>33.0</td>\n",
       "      <td>0</td>\n",
       "      <td>0.0</td>\n",
       "      <td>1283.0</td>\n",
       "      <td>371.0</td>\n",
       "      <td>3329.0</td>\n",
       "      <td>193.0</td>\n",
       "      <td>Solam Susent</td>\n",
       "      <td>0</td>\n",
       "      <td>Age_31-50</td>\n",
       "      <td>A</td>\n",
       "      <td>0.0</td>\n",
       "      <td>S</td>\n",
       "    </tr>\n",
       "    <tr>\n",
       "      <th>4</th>\n",
       "      <td>0004_01</td>\n",
       "      <td>Earth</td>\n",
       "      <td>0</td>\n",
       "      <td>F/1/S</td>\n",
       "      <td>TRAPPIST-1e</td>\n",
       "      <td>16.0</td>\n",
       "      <td>0</td>\n",
       "      <td>303.0</td>\n",
       "      <td>70.0</td>\n",
       "      <td>151.0</td>\n",
       "      <td>565.0</td>\n",
       "      <td>2.0</td>\n",
       "      <td>Willy Santantines</td>\n",
       "      <td>1</td>\n",
       "      <td>Age_13-17</td>\n",
       "      <td>F</td>\n",
       "      <td>1.0</td>\n",
       "      <td>S</td>\n",
       "    </tr>\n",
       "    <tr>\n",
       "      <th>...</th>\n",
       "      <td>...</td>\n",
       "      <td>...</td>\n",
       "      <td>...</td>\n",
       "      <td>...</td>\n",
       "      <td>...</td>\n",
       "      <td>...</td>\n",
       "      <td>...</td>\n",
       "      <td>...</td>\n",
       "      <td>...</td>\n",
       "      <td>...</td>\n",
       "      <td>...</td>\n",
       "      <td>...</td>\n",
       "      <td>...</td>\n",
       "      <td>...</td>\n",
       "      <td>...</td>\n",
       "      <td>...</td>\n",
       "      <td>...</td>\n",
       "      <td>...</td>\n",
       "    </tr>\n",
       "    <tr>\n",
       "      <th>8688</th>\n",
       "      <td>9276_01</td>\n",
       "      <td>Europa</td>\n",
       "      <td>0</td>\n",
       "      <td>A/98/P</td>\n",
       "      <td>55 Cancri e</td>\n",
       "      <td>41.0</td>\n",
       "      <td>1</td>\n",
       "      <td>0.0</td>\n",
       "      <td>6819.0</td>\n",
       "      <td>0.0</td>\n",
       "      <td>1643.0</td>\n",
       "      <td>74.0</td>\n",
       "      <td>Gravior Noxnuther</td>\n",
       "      <td>0</td>\n",
       "      <td>Age_31-50</td>\n",
       "      <td>A</td>\n",
       "      <td>98.0</td>\n",
       "      <td>P</td>\n",
       "    </tr>\n",
       "    <tr>\n",
       "      <th>8689</th>\n",
       "      <td>9278_01</td>\n",
       "      <td>Earth</td>\n",
       "      <td>1</td>\n",
       "      <td>G/1499/S</td>\n",
       "      <td>PSO J318.5-22</td>\n",
       "      <td>18.0</td>\n",
       "      <td>0</td>\n",
       "      <td>0.0</td>\n",
       "      <td>0.0</td>\n",
       "      <td>0.0</td>\n",
       "      <td>0.0</td>\n",
       "      <td>0.0</td>\n",
       "      <td>Kurta Mondalley</td>\n",
       "      <td>0</td>\n",
       "      <td>Age_18-25</td>\n",
       "      <td>G</td>\n",
       "      <td>1499.0</td>\n",
       "      <td>S</td>\n",
       "    </tr>\n",
       "    <tr>\n",
       "      <th>8690</th>\n",
       "      <td>9279_01</td>\n",
       "      <td>Earth</td>\n",
       "      <td>0</td>\n",
       "      <td>G/1500/S</td>\n",
       "      <td>TRAPPIST-1e</td>\n",
       "      <td>26.0</td>\n",
       "      <td>0</td>\n",
       "      <td>0.0</td>\n",
       "      <td>0.0</td>\n",
       "      <td>1872.0</td>\n",
       "      <td>1.0</td>\n",
       "      <td>0.0</td>\n",
       "      <td>Fayey Connon</td>\n",
       "      <td>1</td>\n",
       "      <td>Age_26-30</td>\n",
       "      <td>G</td>\n",
       "      <td>1500.0</td>\n",
       "      <td>S</td>\n",
       "    </tr>\n",
       "    <tr>\n",
       "      <th>8691</th>\n",
       "      <td>9280_01</td>\n",
       "      <td>Europa</td>\n",
       "      <td>0</td>\n",
       "      <td>E/608/S</td>\n",
       "      <td>55 Cancri e</td>\n",
       "      <td>32.0</td>\n",
       "      <td>0</td>\n",
       "      <td>0.0</td>\n",
       "      <td>1049.0</td>\n",
       "      <td>0.0</td>\n",
       "      <td>353.0</td>\n",
       "      <td>3235.0</td>\n",
       "      <td>Celeon Hontichre</td>\n",
       "      <td>0</td>\n",
       "      <td>Age_31-50</td>\n",
       "      <td>E</td>\n",
       "      <td>608.0</td>\n",
       "      <td>S</td>\n",
       "    </tr>\n",
       "    <tr>\n",
       "      <th>8692</th>\n",
       "      <td>9280_02</td>\n",
       "      <td>Europa</td>\n",
       "      <td>0</td>\n",
       "      <td>E/608/S</td>\n",
       "      <td>TRAPPIST-1e</td>\n",
       "      <td>44.0</td>\n",
       "      <td>0</td>\n",
       "      <td>126.0</td>\n",
       "      <td>4688.0</td>\n",
       "      <td>0.0</td>\n",
       "      <td>0.0</td>\n",
       "      <td>12.0</td>\n",
       "      <td>Propsh Hontichre</td>\n",
       "      <td>1</td>\n",
       "      <td>Age_31-50</td>\n",
       "      <td>E</td>\n",
       "      <td>608.0</td>\n",
       "      <td>S</td>\n",
       "    </tr>\n",
       "  </tbody>\n",
       "</table>\n",
       "<p>8693 rows × 18 columns</p>\n",
       "</div>"
      ],
      "text/plain": [
       "     PassengerId HomePlanet CryoSleep     Cabin    Destination   Age VIP  \\\n",
       "0        0001_01     Europa         0     B/0/P    TRAPPIST-1e  39.0   0   \n",
       "1        0002_01      Earth         0     F/0/S    TRAPPIST-1e  24.0   0   \n",
       "2        0003_01     Europa         0     A/0/S    TRAPPIST-1e  58.0   1   \n",
       "3        0003_02     Europa         0     A/0/S    TRAPPIST-1e  33.0   0   \n",
       "4        0004_01      Earth         0     F/1/S    TRAPPIST-1e  16.0   0   \n",
       "...          ...        ...       ...       ...            ...   ...  ..   \n",
       "8688     9276_01     Europa         0    A/98/P    55 Cancri e  41.0   1   \n",
       "8689     9278_01      Earth         1  G/1499/S  PSO J318.5-22  18.0   0   \n",
       "8690     9279_01      Earth         0  G/1500/S    TRAPPIST-1e  26.0   0   \n",
       "8691     9280_01     Europa         0   E/608/S    55 Cancri e  32.0   0   \n",
       "8692     9280_02     Europa         0   E/608/S    TRAPPIST-1e  44.0   0   \n",
       "\n",
       "      RoomService  FoodCourt  ShoppingMall     Spa  VRDeck               Name  \\\n",
       "0             0.0        0.0           0.0     0.0     0.0    Maham Ofracculy   \n",
       "1           109.0        9.0          25.0   549.0    44.0       Juanna Vines   \n",
       "2            43.0     3576.0           0.0  6715.0    49.0      Altark Susent   \n",
       "3             0.0     1283.0         371.0  3329.0   193.0       Solam Susent   \n",
       "4           303.0       70.0         151.0   565.0     2.0  Willy Santantines   \n",
       "...           ...        ...           ...     ...     ...                ...   \n",
       "8688          0.0     6819.0           0.0  1643.0    74.0  Gravior Noxnuther   \n",
       "8689          0.0        0.0           0.0     0.0     0.0    Kurta Mondalley   \n",
       "8690          0.0        0.0        1872.0     1.0     0.0       Fayey Connon   \n",
       "8691          0.0     1049.0           0.0   353.0  3235.0   Celeon Hontichre   \n",
       "8692        126.0     4688.0           0.0     0.0    12.0   Propsh Hontichre   \n",
       "\n",
       "      Transported  Age_group Cabin_deck  Cabin_num Cabin_side  \n",
       "0               0  Age_31-50          B        0.0          P  \n",
       "1               1  Age_18-25          F        0.0          S  \n",
       "2               0    Age_51+          A        0.0          S  \n",
       "3               0  Age_31-50          A        0.0          S  \n",
       "4               1  Age_13-17          F        1.0          S  \n",
       "...           ...        ...        ...        ...        ...  \n",
       "8688            0  Age_31-50          A       98.0          P  \n",
       "8689            0  Age_18-25          G     1499.0          S  \n",
       "8690            1  Age_26-30          G     1500.0          S  \n",
       "8691            0  Age_31-50          E      608.0          S  \n",
       "8692            1  Age_31-50          E      608.0          S  \n",
       "\n",
       "[8693 rows x 18 columns]"
      ]
     },
     "execution_count": 11,
     "metadata": {},
     "output_type": "execute_result"
    }
   ],
   "source": [
    "train_data['Transported'] = train_data['Transported'].replace({True:1,False:0})\n",
    "train_data['CryoSleep'] = train_data['CryoSleep'].replace({True:1,False:0})\n",
    "train_data['VIP'] = train_data['VIP'].replace({True:1,False:0})\n",
    "train_data"
   ]
  },
  {
   "cell_type": "markdown",
   "id": "670b53c6",
   "metadata": {},
   "source": [
    "### Detecting possible correlations through one hot encoding and creating a heatmap"
   ]
  },
  {
   "cell_type": "code",
   "execution_count": 12,
   "id": "9c04b141",
   "metadata": {},
   "outputs": [],
   "source": [
    "one_hot_encoded_training_predictors = pd.get_dummies(train_data)\n",
    "one_hot_encoded_testing_predictors = pd.get_dummies(test_data)"
   ]
  },
  {
   "cell_type": "markdown",
   "id": "efc7ef8d",
   "metadata": {},
   "source": [
    "(The following step may load very long)"
   ]
  },
  {
   "cell_type": "code",
   "execution_count": null,
   "id": "a7b6f4f5",
   "metadata": {},
   "outputs": [],
   "source": [
    "sns.heatmap(one_hot_encoded_training_predictors.corr(),annot=True,cmap='RdYlGn',linewidths=0.2)\n",
    "fig=plt.gcf()\n",
    "fig.set_size_inches(10,8)\n",
    "plt.show()"
   ]
  },
  {
   "cell_type": "markdown",
   "id": "185bc6ad",
   "metadata": {},
   "source": [
    "### Deciding what features to include in the model\n",
    "Based on the previous queries and results, I decided to include CryoSleep. Destination, Age_group, Cabin_deck, Cabin_num, Cabin_sum, and HomePlanet in my final model."
   ]
  },
  {
   "cell_type": "code",
   "execution_count": 13,
   "id": "ada52cc7",
   "metadata": {
    "scrolled": true
   },
   "outputs": [
    {
     "name": "stdout",
     "output_type": "stream",
     "text": [
      "Index(['CryoSleep', 'Destination', 'Age_group', 'Cabin_deck', 'Cabin_num',\n",
      "       'Cabin_side', 'HomePlanet'],\n",
      "      dtype='object')\n"
     ]
    },
    {
     "data": {
      "text/html": [
       "<div>\n",
       "<style scoped>\n",
       "    .dataframe tbody tr th:only-of-type {\n",
       "        vertical-align: middle;\n",
       "    }\n",
       "\n",
       "    .dataframe tbody tr th {\n",
       "        vertical-align: top;\n",
       "    }\n",
       "\n",
       "    .dataframe thead th {\n",
       "        text-align: right;\n",
       "    }\n",
       "</style>\n",
       "<table border=\"1\" class=\"dataframe\">\n",
       "  <thead>\n",
       "    <tr style=\"text-align: right;\">\n",
       "      <th></th>\n",
       "      <th>CryoSleep</th>\n",
       "      <th>Destination</th>\n",
       "      <th>Age_group</th>\n",
       "      <th>Cabin_deck</th>\n",
       "      <th>Cabin_num</th>\n",
       "      <th>Cabin_side</th>\n",
       "      <th>HomePlanet</th>\n",
       "    </tr>\n",
       "  </thead>\n",
       "  <tbody>\n",
       "    <tr>\n",
       "      <th>4820</th>\n",
       "      <td>0</td>\n",
       "      <td>TRAPPIST-1e</td>\n",
       "      <td>Age_0-12</td>\n",
       "      <td>F</td>\n",
       "      <td>1050.0</td>\n",
       "      <td>P</td>\n",
       "      <td>Mars</td>\n",
       "    </tr>\n",
       "    <tr>\n",
       "      <th>2442</th>\n",
       "      <td>1</td>\n",
       "      <td>TRAPPIST-1e</td>\n",
       "      <td>Age_18-25</td>\n",
       "      <td>E</td>\n",
       "      <td>159.0</td>\n",
       "      <td>P</td>\n",
       "      <td>Unknown</td>\n",
       "    </tr>\n",
       "    <tr>\n",
       "      <th>6858</th>\n",
       "      <td>0</td>\n",
       "      <td>TRAPPIST-1e</td>\n",
       "      <td>Age_26-30</td>\n",
       "      <td>D</td>\n",
       "      <td>225.0</td>\n",
       "      <td>P</td>\n",
       "      <td>Europa</td>\n",
       "    </tr>\n",
       "    <tr>\n",
       "      <th>4879</th>\n",
       "      <td>0</td>\n",
       "      <td>TRAPPIST-1e</td>\n",
       "      <td>Age_0-12</td>\n",
       "      <td>G</td>\n",
       "      <td>845.0</td>\n",
       "      <td>S</td>\n",
       "      <td>Earth</td>\n",
       "    </tr>\n",
       "    <tr>\n",
       "      <th>6291</th>\n",
       "      <td>-1</td>\n",
       "      <td>TRAPPIST-1e</td>\n",
       "      <td>Age_18-25</td>\n",
       "      <td>G</td>\n",
       "      <td>1087.0</td>\n",
       "      <td>S</td>\n",
       "      <td>Earth</td>\n",
       "    </tr>\n",
       "    <tr>\n",
       "      <th>6208</th>\n",
       "      <td>0</td>\n",
       "      <td>TRAPPIST-1e</td>\n",
       "      <td>Age_26-30</td>\n",
       "      <td>G</td>\n",
       "      <td>1067.0</td>\n",
       "      <td>S</td>\n",
       "      <td>Earth</td>\n",
       "    </tr>\n",
       "    <tr>\n",
       "      <th>2470</th>\n",
       "      <td>0</td>\n",
       "      <td>TRAPPIST-1e</td>\n",
       "      <td>Age_18-25</td>\n",
       "      <td>G</td>\n",
       "      <td>421.0</td>\n",
       "      <td>S</td>\n",
       "      <td>Earth</td>\n",
       "    </tr>\n",
       "    <tr>\n",
       "      <th>8065</th>\n",
       "      <td>0</td>\n",
       "      <td>TRAPPIST-1e</td>\n",
       "      <td>Age_31-50</td>\n",
       "      <td>F</td>\n",
       "      <td>1659.0</td>\n",
       "      <td>S</td>\n",
       "      <td>Mars</td>\n",
       "    </tr>\n",
       "    <tr>\n",
       "      <th>8651</th>\n",
       "      <td>-1</td>\n",
       "      <td>TRAPPIST-1e</td>\n",
       "      <td>Age_0-12</td>\n",
       "      <td>G</td>\n",
       "      <td>1498.0</td>\n",
       "      <td>P</td>\n",
       "      <td>Earth</td>\n",
       "    </tr>\n",
       "    <tr>\n",
       "      <th>4525</th>\n",
       "      <td>0</td>\n",
       "      <td>TRAPPIST-1e</td>\n",
       "      <td>Age_26-30</td>\n",
       "      <td>E</td>\n",
       "      <td>299.0</td>\n",
       "      <td>P</td>\n",
       "      <td>Mars</td>\n",
       "    </tr>\n",
       "  </tbody>\n",
       "</table>\n",
       "</div>"
      ],
      "text/plain": [
       "     CryoSleep  Destination  Age_group Cabin_deck  Cabin_num Cabin_side  \\\n",
       "4820         0  TRAPPIST-1e   Age_0-12          F     1050.0          P   \n",
       "2442         1  TRAPPIST-1e  Age_18-25          E      159.0          P   \n",
       "6858         0  TRAPPIST-1e  Age_26-30          D      225.0          P   \n",
       "4879         0  TRAPPIST-1e   Age_0-12          G      845.0          S   \n",
       "6291        -1  TRAPPIST-1e  Age_18-25          G     1087.0          S   \n",
       "6208         0  TRAPPIST-1e  Age_26-30          G     1067.0          S   \n",
       "2470         0  TRAPPIST-1e  Age_18-25          G      421.0          S   \n",
       "8065         0  TRAPPIST-1e  Age_31-50          F     1659.0          S   \n",
       "8651        -1  TRAPPIST-1e   Age_0-12          G     1498.0          P   \n",
       "4525         0  TRAPPIST-1e  Age_26-30          E      299.0          P   \n",
       "\n",
       "     HomePlanet  \n",
       "4820       Mars  \n",
       "2442    Unknown  \n",
       "6858     Europa  \n",
       "4879      Earth  \n",
       "6291      Earth  \n",
       "6208      Earth  \n",
       "2470      Earth  \n",
       "8065       Mars  \n",
       "8651      Earth  \n",
       "4525       Mars  "
      ]
     },
     "execution_count": 13,
     "metadata": {},
     "output_type": "execute_result"
    }
   ],
   "source": [
    "features = ['CryoSleep','Destination','Age_group','Cabin_deck','Cabin_num','Cabin_side','HomePlanet']\n",
    "train_ds = train_data[features]\n",
    "test_ds = test_data[features]\n",
    "y = train_data['Transported']\n",
    "print(train_ds.columns)\n",
    "train_ds.sample(10)"
   ]
  },
  {
   "cell_type": "markdown",
   "id": "02271076",
   "metadata": {},
   "source": [
    "Here I am splitting my training set into training and validation sets, with a size of 80/20."
   ]
  },
  {
   "cell_type": "code",
   "execution_count": 14,
   "id": "d91c21e3",
   "metadata": {},
   "outputs": [],
   "source": [
    "train_X, test_X, train_y, test_y = train_test_split(one_hot_encoded_training_predictors, y, test_size=0.20)"
   ]
  },
  {
   "cell_type": "code",
   "execution_count": 15,
   "id": "be84bf2c",
   "metadata": {},
   "outputs": [
    {
     "name": "stdout",
     "output_type": "stream",
     "text": [
      "0       0\n",
      "1       1\n",
      "2       0\n",
      "3       0\n",
      "4       1\n",
      "       ..\n",
      "8688    0\n",
      "8689    0\n",
      "8690    1\n",
      "8691    0\n",
      "8692    1\n",
      "Name: Transported, Length: 8693, dtype: int64\n"
     ]
    }
   ],
   "source": [
    "print(y)"
   ]
  },
  {
   "cell_type": "markdown",
   "id": "38379d9c",
   "metadata": {},
   "source": [
    "## K-Nearest Neighbours\n",
    "The k-nearest neighbours algorithm uses k = 5 as default value. I decided to check the results for different values and then use the one with the best result/accuracy."
   ]
  },
  {
   "cell_type": "code",
   "execution_count": 16,
   "id": "930cd529",
   "metadata": {},
   "outputs": [
    {
     "name": "stdout",
     "output_type": "stream",
     "text": [
      "11\n"
     ]
    }
   ],
   "source": [
    "k_values = [3, 5, 7, 8, 9, 11]\n",
    "\n",
    "best_accuracy = 0\n",
    "best_k = None\n",
    "\n",
    "for k in k_values:\n",
    "    knn_clf = KNeighborsClassifier(n_neighbors=k)\n",
    "    scores = cross_val_score(knn_clf, train_X, train_y, cv=5)\n",
    "    accuracy = scores.mean()\n",
    "\n",
    "    if accuracy > best_accuracy:\n",
    "        best_accuracy = accuracy\n",
    "        best_k = k\n",
    "        \n",
    "print(best_k)"
   ]
  },
  {
   "cell_type": "markdown",
   "id": "df2410d8",
   "metadata": {},
   "source": [
    "As we have now found out the best k value, we can actually train the model in the next step."
   ]
  },
  {
   "cell_type": "code",
   "execution_count": 21,
   "id": "2c3ece2a",
   "metadata": {},
   "outputs": [],
   "source": [
    "knn_clf = KNeighborsClassifier(n_neighbors=best_k)\n",
    "knn_clf.fit(train_X, train_y)\n",
    "pred_knn = knn_clf.predict(test_X)"
   ]
  },
  {
   "cell_type": "markdown",
   "id": "2484d7b3",
   "metadata": {},
   "source": [
    "Of course it is also of quite an importance how accurate the model is. We can get the accuracy score with a module from sklearn. As a second accuracy measure I am using the F1 score."
   ]
  },
  {
   "cell_type": "code",
   "execution_count": 22,
   "id": "a7782d88",
   "metadata": {},
   "outputs": [
    {
     "name": "stdout",
     "output_type": "stream",
     "text": [
      "Best k: 11\n",
      "Accuracy Score: 0.7659574468085106\n",
      "F1 SCore: 0.7722439843312814\n"
     ]
    }
   ],
   "source": [
    "acc_knn = accuracy_score(test_y, pred_knn)\n",
    "f1 = f1_score(test_y, pred_knn)\n",
    "\n",
    "print(\"Best k:\", best_k)\n",
    "print(\"Accuracy Score:\", acc_knn)\n",
    "print(\"F1 SCore:\", f1)"
   ]
  },
  {
   "cell_type": "markdown",
   "id": "f512f98e",
   "metadata": {},
   "source": [
    "After cleaning and pre-processing the data, the model was trained and has an accuracy rate of almost 80% which is pretty good."
   ]
  },
  {
   "cell_type": "markdown",
   "id": "3461d431",
   "metadata": {},
   "source": [
    "### Sources"
   ]
  },
  {
   "cell_type": "markdown",
   "id": "e670a4a5",
   "metadata": {},
   "source": [
    "* Machine Learning for Absolute Beginners, Oliver Theobald: https://vk.com/wall-54530371_337420?lang=en\n",
    "* Lucija Krusic's notebook: https://github.com/lucijakrusic/programming2SS23/blob/main/data_science/Titanic_challenge.ipynb\n",
    "* Spaceship Dataset: https://www.kaggle.com/competitions/spaceship-titanic/data\n",
    "* Spaceship Notebooks: \n",
    "    * https://www.kaggle.com/code/computervisi/best-models-spaceship-titanic (useful for the feature engineering part but very sophisticated and detailed)\n",
    "    * https://www.kaggle.com/code/rajeshkuchhadia/spaceship-titanic (good overview)\n",
    "    * https://www.kaggle.com/code/computervisi/best-models-spaceship-titanic (useful for the feature engineering part)\n"
   ]
  }
 ],
 "metadata": {
  "kernelspec": {
   "display_name": "Python 3 (ipykernel)",
   "language": "python",
   "name": "python3"
  },
  "language_info": {
   "codemirror_mode": {
    "name": "ipython",
    "version": 3
   },
   "file_extension": ".py",
   "mimetype": "text/x-python",
   "name": "python",
   "nbconvert_exporter": "python",
   "pygments_lexer": "ipython3",
   "version": "3.10.9"
  }
 },
 "nbformat": 4,
 "nbformat_minor": 5
}
